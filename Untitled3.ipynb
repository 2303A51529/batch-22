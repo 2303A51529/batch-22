{
  "nbformat": 4,
  "nbformat_minor": 0,
  "metadata": {
    "colab": {
      "provenance": [],
      "authorship_tag": "ABX9TyNthbiJNqJGAXxeSAaietgt",
      "include_colab_link": true
    },
    "kernelspec": {
      "name": "python3",
      "display_name": "Python 3"
    },
    "language_info": {
      "name": "python"
    }
  },
  "cells": [
    {
      "cell_type": "markdown",
      "metadata": {
        "id": "view-in-github",
        "colab_type": "text"
      },
      "source": [
        "<a href=\"https://colab.research.google.com/github/2303A51529/batch-22/blob/main/Untitled3.ipynb\" target=\"_parent\"><img src=\"https://colab.research.google.com/assets/colab-badge.svg\" alt=\"Open In Colab\"/></a>"
      ]
    },
    {
      "cell_type": "code",
      "execution_count": 1,
      "metadata": {
        "colab": {
          "base_uri": "https://localhost:8080/"
        },
        "id": "XJx89ao46107",
        "outputId": "ff083c74-e193-43ec-9b54-9a94917ea071"
      },
      "outputs": [
        {
          "output_type": "stream",
          "name": "stdout",
          "text": [
            "Sine: [0.84147098 0.90929743 0.14112001]\n",
            "Natural Log: [0.         0.69314718 1.09861229]\n",
            "Base-2 Log: [0.        1.        1.5849625]\n",
            "Exponential: [ 2.71828183  7.3890561  20.08553692]\n"
          ]
        }
      ],
      "source": [
        "import numpy as np\n",
        "\n",
        "arr = np.array([1, 2, 3])\n",
        "\n",
        "# Sine of each element in the array\n",
        "sin_result = np.sin(arr)\n",
        "print(\"Sine:\", sin_result)\n",
        "\n",
        "# Natural log of each element in the array\n",
        "log_result = np.log(arr)\n",
        "print(\"Natural Log:\", log_result)\n",
        "\n",
        "# Base-2 log of each element in the array\n",
        "log2_result = np.log2(arr)\n",
        "print(\"Base-2 Log:\", log2_result)\n",
        "\n",
        "# Exponential of each element in the array\n",
        "exp_result = np.exp(arr)\n",
        "print(\"Exponential:\", exp_result)"
      ]
    }
  ]
}